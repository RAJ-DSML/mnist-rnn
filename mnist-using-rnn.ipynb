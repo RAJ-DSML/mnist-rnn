{
 "cells": [
  {
   "cell_type": "code",
   "execution_count": 1,
   "id": "5f29a21a",
   "metadata": {
    "_cell_guid": "b1076dfc-b9ad-4769-8c92-a6c4dae69d19",
    "_uuid": "8f2839f25d086af736a60e9eeb907d3b93b6e0e5",
    "execution": {
     "iopub.execute_input": "2023-08-09T09:14:27.388793Z",
     "iopub.status.busy": "2023-08-09T09:14:27.388426Z",
     "iopub.status.idle": "2023-08-09T09:14:35.817922Z",
     "shell.execute_reply": "2023-08-09T09:14:35.816943Z"
    },
    "papermill": {
     "duration": 8.437077,
     "end_time": "2023-08-09T09:14:35.820601",
     "exception": false,
     "start_time": "2023-08-09T09:14:27.383524",
     "status": "completed"
    },
    "tags": []
   },
   "outputs": [
    {
     "name": "stderr",
     "output_type": "stream",
     "text": [
      "/opt/conda/lib/python3.10/site-packages/scipy/__init__.py:146: UserWarning: A NumPy version >=1.16.5 and <1.23.0 is required for this version of SciPy (detected version 1.23.5\n",
      "  warnings.warn(f\"A NumPy version >={np_minversion} and <{np_maxversion}\"\n",
      "/opt/conda/lib/python3.10/site-packages/tensorflow_io/python/ops/__init__.py:98: UserWarning: unable to load libtensorflow_io_plugins.so: unable to open file: libtensorflow_io_plugins.so, from paths: ['/opt/conda/lib/python3.10/site-packages/tensorflow_io/python/ops/libtensorflow_io_plugins.so']\n",
      "caused by: ['/opt/conda/lib/python3.10/site-packages/tensorflow_io/python/ops/libtensorflow_io_plugins.so: undefined symbol: _ZN3tsl6StatusC1EN10tensorflow5error4CodeESt17basic_string_viewIcSt11char_traitsIcEENS_14SourceLocationE']\n",
      "  warnings.warn(f\"unable to load libtensorflow_io_plugins.so: {e}\")\n",
      "/opt/conda/lib/python3.10/site-packages/tensorflow_io/python/ops/__init__.py:104: UserWarning: file system plugins are not loaded: unable to open file: libtensorflow_io.so, from paths: ['/opt/conda/lib/python3.10/site-packages/tensorflow_io/python/ops/libtensorflow_io.so']\n",
      "caused by: ['/opt/conda/lib/python3.10/site-packages/tensorflow_io/python/ops/libtensorflow_io.so: undefined symbol: _ZTVN10tensorflow13GcsFileSystemE']\n",
      "  warnings.warn(f\"file system plugins are not loaded: {e}\")\n"
     ]
    }
   ],
   "source": [
    "# This Python 3 environment comes with many helpful analytics libraries installed\n",
    "# It is defined by the kaggle/python Docker image: https://github.com/kaggle/docker-python\n",
    "# For example, here's several helpful packages to load\n",
    "\n",
    "import numpy as np # linear algebra\n",
    "import pandas as pd # data processing, CSV file I/O (e.g. pd.read_csv)\n",
    "import tensorflow as tf\n",
    "import matplotlib.pyplot as plt\n",
    "from tensorflow.keras.layers import RNN\n",
    "\n",
    "\n",
    "# Input data files are available in the read-only \"../input/\" directory\n",
    "# For example, running this (by clicking run or pressing Shift+Enter) will list all files under the input directory\n",
    "\n",
    "import os\n",
    "for dirname, _, filenames in os.walk('/kaggle/input'):\n",
    "    for filename in filenames:\n",
    "        print(os.path.join(dirname, filename))\n",
    "\n",
    "# You can write up to 20GB to the current directory (/kaggle/working/) that gets preserved as output when you create a version using \"Save & Run All\" \n",
    "# You can also write temporary files to /kaggle/temp/, but they won't be saved outside of the current session"
   ]
  },
  {
   "cell_type": "markdown",
   "id": "b0a187de",
   "metadata": {
    "papermill": {
     "duration": 0.002345,
     "end_time": "2023-08-09T09:14:35.825944",
     "exception": false,
     "start_time": "2023-08-09T09:14:35.823599",
     "status": "completed"
    },
    "tags": []
   },
   "source": [
    "Load the MNIST data"
   ]
  },
  {
   "cell_type": "code",
   "execution_count": 2,
   "id": "3d187158",
   "metadata": {
    "execution": {
     "iopub.execute_input": "2023-08-09T09:14:35.832870Z",
     "iopub.status.busy": "2023-08-09T09:14:35.832055Z",
     "iopub.status.idle": "2023-08-09T09:14:37.607722Z",
     "shell.execute_reply": "2023-08-09T09:14:37.606791Z"
    },
    "papermill": {
     "duration": 1.782059,
     "end_time": "2023-08-09T09:14:37.610421",
     "exception": false,
     "start_time": "2023-08-09T09:14:35.828362",
     "status": "completed"
    },
    "tags": []
   },
   "outputs": [
    {
     "name": "stdout",
     "output_type": "stream",
     "text": [
      "Downloading data from https://storage.googleapis.com/tensorflow/tf-keras-datasets/mnist.npz\n",
      "11490434/11490434 [==============================] - 1s 0us/step\n"
     ]
    }
   ],
   "source": [
    "from tensorflow.keras.datasets import mnist\n",
    "(x_train, y_train), (x_test, y_test) = mnist.load_data()"
   ]
  },
  {
   "cell_type": "code",
   "execution_count": 3,
   "id": "c0a17192",
   "metadata": {
    "execution": {
     "iopub.execute_input": "2023-08-09T09:14:37.621307Z",
     "iopub.status.busy": "2023-08-09T09:14:37.620963Z",
     "iopub.status.idle": "2023-08-09T09:14:37.629533Z",
     "shell.execute_reply": "2023-08-09T09:14:37.628495Z"
    },
    "papermill": {
     "duration": 0.016707,
     "end_time": "2023-08-09T09:14:37.631968",
     "exception": false,
     "start_time": "2023-08-09T09:14:37.615261",
     "status": "completed"
    },
    "tags": []
   },
   "outputs": [
    {
     "name": "stdout",
     "output_type": "stream",
     "text": [
      "No. of Labels:  10\n"
     ]
    }
   ],
   "source": [
    "# number of labels\n",
    "number_of_labels = len(np.unique(y_train))\n",
    "print(\"No. of Labels: \", number_of_labels)"
   ]
  },
  {
   "cell_type": "code",
   "execution_count": null,
   "id": "8616f1eb",
   "metadata": {
    "papermill": {
     "duration": 0.004255,
     "end_time": "2023-08-09T09:14:37.640833",
     "exception": false,
     "start_time": "2023-08-09T09:14:37.636578",
     "status": "completed"
    },
    "tags": []
   },
   "outputs": [],
   "source": []
  }
 ],
 "metadata": {
  "kernelspec": {
   "display_name": "Python 3",
   "language": "python",
   "name": "python3"
  },
  "language_info": {
   "codemirror_mode": {
    "name": "ipython",
    "version": 3
   },
   "file_extension": ".py",
   "mimetype": "text/x-python",
   "name": "python",
   "nbconvert_exporter": "python",
   "pygments_lexer": "ipython3",
   "version": "3.10.12"
  },
  "papermill": {
   "default_parameters": {},
   "duration": 24.26208,
   "end_time": "2023-08-09T09:14:40.287655",
   "environment_variables": {},
   "exception": null,
   "input_path": "__notebook__.ipynb",
   "output_path": "__notebook__.ipynb",
   "parameters": {},
   "start_time": "2023-08-09T09:14:16.025575",
   "version": "2.4.0"
  }
 },
 "nbformat": 4,
 "nbformat_minor": 5
}
