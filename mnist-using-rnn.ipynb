{
 "cells": [
  {
   "cell_type": "code",
   "execution_count": 1,
   "id": "e316db5a",
   "metadata": {
    "_cell_guid": "b1076dfc-b9ad-4769-8c92-a6c4dae69d19",
    "_uuid": "8f2839f25d086af736a60e9eeb907d3b93b6e0e5",
    "execution": {
     "iopub.execute_input": "2023-08-09T09:24:33.366020Z",
     "iopub.status.busy": "2023-08-09T09:24:33.365530Z",
     "iopub.status.idle": "2023-08-09T09:24:41.714647Z",
     "shell.execute_reply": "2023-08-09T09:24:41.713454Z"
    },
    "papermill": {
     "duration": 8.356935,
     "end_time": "2023-08-09T09:24:41.717272",
     "exception": false,
     "start_time": "2023-08-09T09:24:33.360337",
     "status": "completed"
    },
    "tags": []
   },
   "outputs": [
    {
     "name": "stderr",
     "output_type": "stream",
     "text": [
      "/opt/conda/lib/python3.10/site-packages/scipy/__init__.py:146: UserWarning: A NumPy version >=1.16.5 and <1.23.0 is required for this version of SciPy (detected version 1.23.5\n",
      "  warnings.warn(f\"A NumPy version >={np_minversion} and <{np_maxversion}\"\n",
      "/opt/conda/lib/python3.10/site-packages/tensorflow_io/python/ops/__init__.py:98: UserWarning: unable to load libtensorflow_io_plugins.so: unable to open file: libtensorflow_io_plugins.so, from paths: ['/opt/conda/lib/python3.10/site-packages/tensorflow_io/python/ops/libtensorflow_io_plugins.so']\n",
      "caused by: ['/opt/conda/lib/python3.10/site-packages/tensorflow_io/python/ops/libtensorflow_io_plugins.so: undefined symbol: _ZN3tsl6StatusC1EN10tensorflow5error4CodeESt17basic_string_viewIcSt11char_traitsIcEENS_14SourceLocationE']\n",
      "  warnings.warn(f\"unable to load libtensorflow_io_plugins.so: {e}\")\n",
      "/opt/conda/lib/python3.10/site-packages/tensorflow_io/python/ops/__init__.py:104: UserWarning: file system plugins are not loaded: unable to open file: libtensorflow_io.so, from paths: ['/opt/conda/lib/python3.10/site-packages/tensorflow_io/python/ops/libtensorflow_io.so']\n",
      "caused by: ['/opt/conda/lib/python3.10/site-packages/tensorflow_io/python/ops/libtensorflow_io.so: undefined symbol: _ZTVN10tensorflow13GcsFileSystemE']\n",
      "  warnings.warn(f\"file system plugins are not loaded: {e}\")\n"
     ]
    }
   ],
   "source": [
    "# This Python 3 environment comes with many helpful analytics libraries installed\n",
    "# It is defined by the kaggle/python Docker image: https://github.com/kaggle/docker-python\n",
    "# For example, here's several helpful packages to load\n",
    "\n",
    "import numpy as np # linear algebra\n",
    "import pandas as pd # data processing, CSV file I/O (e.g. pd.read_csv)\n",
    "import tensorflow as tf\n",
    "import matplotlib.pyplot as plt\n",
    "from tensorflow.keras.layers import RNN\n",
    "\n",
    "\n",
    "# Input data files are available in the read-only \"../input/\" directory\n",
    "# For example, running this (by clicking run or pressing Shift+Enter) will list all files under the input directory\n",
    "\n",
    "import os\n",
    "for dirname, _, filenames in os.walk('/kaggle/input'):\n",
    "    for filename in filenames:\n",
    "        print(os.path.join(dirname, filename))\n",
    "\n",
    "# You can write up to 20GB to the current directory (/kaggle/working/) that gets preserved as output when you create a version using \"Save & Run All\" \n",
    "# You can also write temporary files to /kaggle/temp/, but they won't be saved outside of the current session"
   ]
  },
  {
   "cell_type": "markdown",
   "id": "1e346c26",
   "metadata": {
    "papermill": {
     "duration": 0.002592,
     "end_time": "2023-08-09T09:24:41.723131",
     "exception": false,
     "start_time": "2023-08-09T09:24:41.720539",
     "status": "completed"
    },
    "tags": []
   },
   "source": [
    "Load the MNIST data"
   ]
  },
  {
   "cell_type": "code",
   "execution_count": 2,
   "id": "a13ed79e",
   "metadata": {
    "execution": {
     "iopub.execute_input": "2023-08-09T09:24:41.730462Z",
     "iopub.status.busy": "2023-08-09T09:24:41.729768Z",
     "iopub.status.idle": "2023-08-09T09:24:42.209978Z",
     "shell.execute_reply": "2023-08-09T09:24:42.209000Z"
    },
    "papermill": {
     "duration": 0.486533,
     "end_time": "2023-08-09T09:24:42.212432",
     "exception": false,
     "start_time": "2023-08-09T09:24:41.725899",
     "status": "completed"
    },
    "tags": []
   },
   "outputs": [
    {
     "name": "stdout",
     "output_type": "stream",
     "text": [
      "Downloading data from https://storage.googleapis.com/tensorflow/tf-keras-datasets/mnist.npz\n",
      "11490434/11490434 [==============================] - 0s 0us/step\n"
     ]
    }
   ],
   "source": [
    "from tensorflow.keras.datasets import mnist\n",
    "(x_train, y_train), (x_test, y_test) = mnist.load_data()"
   ]
  },
  {
   "cell_type": "code",
   "execution_count": 3,
   "id": "e8a8321f",
   "metadata": {
    "execution": {
     "iopub.execute_input": "2023-08-09T09:24:42.220820Z",
     "iopub.status.busy": "2023-08-09T09:24:42.220292Z",
     "iopub.status.idle": "2023-08-09T09:24:42.230118Z",
     "shell.execute_reply": "2023-08-09T09:24:42.228761Z"
    },
    "papermill": {
     "duration": 0.016507,
     "end_time": "2023-08-09T09:24:42.232400",
     "exception": false,
     "start_time": "2023-08-09T09:24:42.215893",
     "status": "completed"
    },
    "tags": []
   },
   "outputs": [
    {
     "name": "stdout",
     "output_type": "stream",
     "text": [
      "No. of Labels:  10\n"
     ]
    }
   ],
   "source": [
    "# number of labels/ classes\n",
    "number_of_labels = len(np.unique(y_train))\n",
    "print(\"No. of Labels: \", number_of_labels)"
   ]
  },
  {
   "cell_type": "code",
   "execution_count": 4,
   "id": "0e26000c",
   "metadata": {
    "execution": {
     "iopub.execute_input": "2023-08-09T09:24:42.240606Z",
     "iopub.status.busy": "2023-08-09T09:24:42.240237Z",
     "iopub.status.idle": "2023-08-09T09:24:42.249833Z",
     "shell.execute_reply": "2023-08-09T09:24:42.247759Z"
    },
    "papermill": {
     "duration": 0.016804,
     "end_time": "2023-08-09T09:24:42.252467",
     "exception": false,
     "start_time": "2023-08-09T09:24:42.235663",
     "status": "completed"
    },
    "tags": []
   },
   "outputs": [
    {
     "name": "stdout",
     "output_type": "stream",
     "text": [
      "########### BEFORE CONVERTING INTO ONE-HOT ###########\n",
      "x_train:  [[[0 0 0 ... 0 0 0]\n",
      "  [0 0 0 ... 0 0 0]\n",
      "  [0 0 0 ... 0 0 0]\n",
      "  ...\n",
      "  [0 0 0 ... 0 0 0]\n",
      "  [0 0 0 ... 0 0 0]\n",
      "  [0 0 0 ... 0 0 0]]\n",
      "\n",
      " [[0 0 0 ... 0 0 0]\n",
      "  [0 0 0 ... 0 0 0]\n",
      "  [0 0 0 ... 0 0 0]\n",
      "  ...\n",
      "  [0 0 0 ... 0 0 0]\n",
      "  [0 0 0 ... 0 0 0]\n",
      "  [0 0 0 ... 0 0 0]]\n",
      "\n",
      " [[0 0 0 ... 0 0 0]\n",
      "  [0 0 0 ... 0 0 0]\n",
      "  [0 0 0 ... 0 0 0]\n",
      "  ...\n",
      "  [0 0 0 ... 0 0 0]\n",
      "  [0 0 0 ... 0 0 0]\n",
      "  [0 0 0 ... 0 0 0]]\n",
      "\n",
      " ...\n",
      "\n",
      " [[0 0 0 ... 0 0 0]\n",
      "  [0 0 0 ... 0 0 0]\n",
      "  [0 0 0 ... 0 0 0]\n",
      "  ...\n",
      "  [0 0 0 ... 0 0 0]\n",
      "  [0 0 0 ... 0 0 0]\n",
      "  [0 0 0 ... 0 0 0]]\n",
      "\n",
      " [[0 0 0 ... 0 0 0]\n",
      "  [0 0 0 ... 0 0 0]\n",
      "  [0 0 0 ... 0 0 0]\n",
      "  ...\n",
      "  [0 0 0 ... 0 0 0]\n",
      "  [0 0 0 ... 0 0 0]\n",
      "  [0 0 0 ... 0 0 0]]\n",
      "\n",
      " [[0 0 0 ... 0 0 0]\n",
      "  [0 0 0 ... 0 0 0]\n",
      "  [0 0 0 ... 0 0 0]\n",
      "  ...\n",
      "  [0 0 0 ... 0 0 0]\n",
      "  [0 0 0 ... 0 0 0]\n",
      "  [0 0 0 ... 0 0 0]]]\n",
      "y_train:  [5 0 4 ... 5 6 8]\n",
      "x_test:  [[[0 0 0 ... 0 0 0]\n",
      "  [0 0 0 ... 0 0 0]\n",
      "  [0 0 0 ... 0 0 0]\n",
      "  ...\n",
      "  [0 0 0 ... 0 0 0]\n",
      "  [0 0 0 ... 0 0 0]\n",
      "  [0 0 0 ... 0 0 0]]\n",
      "\n",
      " [[0 0 0 ... 0 0 0]\n",
      "  [0 0 0 ... 0 0 0]\n",
      "  [0 0 0 ... 0 0 0]\n",
      "  ...\n",
      "  [0 0 0 ... 0 0 0]\n",
      "  [0 0 0 ... 0 0 0]\n",
      "  [0 0 0 ... 0 0 0]]\n",
      "\n",
      " [[0 0 0 ... 0 0 0]\n",
      "  [0 0 0 ... 0 0 0]\n",
      "  [0 0 0 ... 0 0 0]\n",
      "  ...\n",
      "  [0 0 0 ... 0 0 0]\n",
      "  [0 0 0 ... 0 0 0]\n",
      "  [0 0 0 ... 0 0 0]]\n",
      "\n",
      " ...\n",
      "\n",
      " [[0 0 0 ... 0 0 0]\n",
      "  [0 0 0 ... 0 0 0]\n",
      "  [0 0 0 ... 0 0 0]\n",
      "  ...\n",
      "  [0 0 0 ... 0 0 0]\n",
      "  [0 0 0 ... 0 0 0]\n",
      "  [0 0 0 ... 0 0 0]]\n",
      "\n",
      " [[0 0 0 ... 0 0 0]\n",
      "  [0 0 0 ... 0 0 0]\n",
      "  [0 0 0 ... 0 0 0]\n",
      "  ...\n",
      "  [0 0 0 ... 0 0 0]\n",
      "  [0 0 0 ... 0 0 0]\n",
      "  [0 0 0 ... 0 0 0]]\n",
      "\n",
      " [[0 0 0 ... 0 0 0]\n",
      "  [0 0 0 ... 0 0 0]\n",
      "  [0 0 0 ... 0 0 0]\n",
      "  ...\n",
      "  [0 0 0 ... 0 0 0]\n",
      "  [0 0 0 ... 0 0 0]\n",
      "  [0 0 0 ... 0 0 0]]]\n",
      "y_test:  [7 2 1 ... 4 5 6]\n"
     ]
    }
   ],
   "source": [
    "print(\"########### BEFORE CONVERTING INTO ONE-HOT ###########\")\n",
    "print(\"x_train: \", x_train)\n",
    "print(\"y_train: \", y_train)\n",
    "\n",
    "print(\"x_test: \", x_test)\n",
    "print(\"y_test: \", y_test)"
   ]
  },
  {
   "cell_type": "code",
   "execution_count": 5,
   "id": "888ebedc",
   "metadata": {
    "execution": {
     "iopub.execute_input": "2023-08-09T09:24:42.260933Z",
     "iopub.status.busy": "2023-08-09T09:24:42.260526Z",
     "iopub.status.idle": "2023-08-09T09:24:42.266652Z",
     "shell.execute_reply": "2023-08-09T09:24:42.265308Z"
    },
    "papermill": {
     "duration": 0.013531,
     "end_time": "2023-08-09T09:24:42.269497",
     "exception": false,
     "start_time": "2023-08-09T09:24:42.255966",
     "status": "completed"
    },
    "tags": []
   },
   "outputs": [
    {
     "name": "stdout",
     "output_type": "stream",
     "text": [
      "Shape of x_train:  (60000, 28, 28)\n",
      "Shape of y_train:  (60000,)\n",
      "Shape of x_test:  (10000, 28, 28)\n",
      "Shape of y_test:  (10000,)\n"
     ]
    }
   ],
   "source": [
    "print(\"Shape of x_train: \", x_train.shape)\n",
    "print(\"Shape of y_train: \", y_train.shape)\n",
    "\n",
    "print(\"Shape of x_test: \",  x_test.shape)\n",
    "print(\"Shape of y_test: \",  y_test.shape)"
   ]
  },
  {
   "cell_type": "code",
   "execution_count": 6,
   "id": "2703e2e9",
   "metadata": {
    "execution": {
     "iopub.execute_input": "2023-08-09T09:24:42.278361Z",
     "iopub.status.busy": "2023-08-09T09:24:42.277999Z",
     "iopub.status.idle": "2023-08-09T09:24:42.287890Z",
     "shell.execute_reply": "2023-08-09T09:24:42.286960Z"
    },
    "papermill": {
     "duration": 0.017145,
     "end_time": "2023-08-09T09:24:42.290420",
     "exception": false,
     "start_time": "2023-08-09T09:24:42.273275",
     "status": "completed"
    },
    "tags": []
   },
   "outputs": [],
   "source": [
    "# now convert to one-hot\n",
    "from tensorflow.keras.utils import to_categorical\n",
    "\n",
    "y_train = to_categorical(y_train)\n",
    "y_test  = to_categorical(y_test)"
   ]
  },
  {
   "cell_type": "code",
   "execution_count": 7,
   "id": "c153ea89",
   "metadata": {
    "execution": {
     "iopub.execute_input": "2023-08-09T09:24:42.299693Z",
     "iopub.status.busy": "2023-08-09T09:24:42.298693Z",
     "iopub.status.idle": "2023-08-09T09:24:42.305785Z",
     "shell.execute_reply": "2023-08-09T09:24:42.304606Z"
    },
    "papermill": {
     "duration": 0.013914,
     "end_time": "2023-08-09T09:24:42.307877",
     "exception": false,
     "start_time": "2023-08-09T09:24:42.293963",
     "status": "completed"
    },
    "tags": []
   },
   "outputs": [
    {
     "name": "stdout",
     "output_type": "stream",
     "text": [
      "########### AFTER CONVERTING INTO ONE-HOT ###########\n",
      "y_train:  [[0. 0. 0. ... 0. 0. 0.]\n",
      " [1. 0. 0. ... 0. 0. 0.]\n",
      " [0. 0. 0. ... 0. 0. 0.]\n",
      " ...\n",
      " [0. 0. 0. ... 0. 0. 0.]\n",
      " [0. 0. 0. ... 0. 0. 0.]\n",
      " [0. 0. 0. ... 0. 1. 0.]]\n",
      "Shape of y_train:  (60000, 10)\n",
      "y_test:  [[0. 0. 0. ... 1. 0. 0.]\n",
      " [0. 0. 1. ... 0. 0. 0.]\n",
      " [0. 1. 0. ... 0. 0. 0.]\n",
      " ...\n",
      " [0. 0. 0. ... 0. 0. 0.]\n",
      " [0. 0. 0. ... 0. 0. 0.]\n",
      " [0. 0. 0. ... 0. 0. 0.]]\n",
      "Shape of y_test:  (10000, 10)\n"
     ]
    }
   ],
   "source": [
    "print(\"########### AFTER CONVERTING INTO ONE-HOT ###########\")\n",
    "print(\"y_train: \", y_train)\n",
    "print(\"Shape of y_train: \", y_train.shape)\n",
    "\n",
    "print(\"y_test: \", y_test)\n",
    "print(\"Shape of y_test: \",  y_test.shape)"
   ]
  }
 ],
 "metadata": {
  "kernelspec": {
   "display_name": "Python 3",
   "language": "python",
   "name": "python3"
  },
  "language_info": {
   "codemirror_mode": {
    "name": "ipython",
    "version": 3
   },
   "file_extension": ".py",
   "mimetype": "text/x-python",
   "name": "python",
   "nbconvert_exporter": "python",
   "pygments_lexer": "ipython3",
   "version": "3.10.12"
  },
  "papermill": {
   "default_parameters": {},
   "duration": 20.457194,
   "end_time": "2023-08-09T09:24:44.787211",
   "environment_variables": {},
   "exception": null,
   "input_path": "__notebook__.ipynb",
   "output_path": "__notebook__.ipynb",
   "parameters": {},
   "start_time": "2023-08-09T09:24:24.330017",
   "version": "2.4.0"
  }
 },
 "nbformat": 4,
 "nbformat_minor": 5
}
