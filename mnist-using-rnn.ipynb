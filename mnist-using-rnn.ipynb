{
 "cells": [
  {
   "cell_type": "code",
   "execution_count": 1,
   "id": "d9f6883e",
   "metadata": {
    "_cell_guid": "b1076dfc-b9ad-4769-8c92-a6c4dae69d19",
    "_uuid": "8f2839f25d086af736a60e9eeb907d3b93b6e0e5",
    "execution": {
     "iopub.execute_input": "2023-08-09T10:20:57.153079Z",
     "iopub.status.busy": "2023-08-09T10:20:57.152551Z",
     "iopub.status.idle": "2023-08-09T10:21:07.301295Z",
     "shell.execute_reply": "2023-08-09T10:21:07.299805Z"
    },
    "papermill": {
     "duration": 10.162667,
     "end_time": "2023-08-09T10:21:07.304812",
     "exception": false,
     "start_time": "2023-08-09T10:20:57.142145",
     "status": "completed"
    },
    "tags": []
   },
   "outputs": [
    {
     "name": "stderr",
     "output_type": "stream",
     "text": [
      "/opt/conda/lib/python3.10/site-packages/scipy/__init__.py:146: UserWarning: A NumPy version >=1.16.5 and <1.23.0 is required for this version of SciPy (detected version 1.23.5\n",
      "  warnings.warn(f\"A NumPy version >={np_minversion} and <{np_maxversion}\"\n",
      "/opt/conda/lib/python3.10/site-packages/tensorflow_io/python/ops/__init__.py:98: UserWarning: unable to load libtensorflow_io_plugins.so: unable to open file: libtensorflow_io_plugins.so, from paths: ['/opt/conda/lib/python3.10/site-packages/tensorflow_io/python/ops/libtensorflow_io_plugins.so']\n",
      "caused by: ['/opt/conda/lib/python3.10/site-packages/tensorflow_io/python/ops/libtensorflow_io_plugins.so: undefined symbol: _ZN3tsl6StatusC1EN10tensorflow5error4CodeESt17basic_string_viewIcSt11char_traitsIcEENS_14SourceLocationE']\n",
      "  warnings.warn(f\"unable to load libtensorflow_io_plugins.so: {e}\")\n",
      "/opt/conda/lib/python3.10/site-packages/tensorflow_io/python/ops/__init__.py:104: UserWarning: file system plugins are not loaded: unable to open file: libtensorflow_io.so, from paths: ['/opt/conda/lib/python3.10/site-packages/tensorflow_io/python/ops/libtensorflow_io.so']\n",
      "caused by: ['/opt/conda/lib/python3.10/site-packages/tensorflow_io/python/ops/libtensorflow_io.so: undefined symbol: _ZTVN10tensorflow13GcsFileSystemE']\n",
      "  warnings.warn(f\"file system plugins are not loaded: {e}\")\n"
     ]
    }
   ],
   "source": [
    "# This Python 3 environment comes with many helpful analytics libraries installed\n",
    "# It is defined by the kaggle/python Docker image: https://github.com/kaggle/docker-python\n",
    "# For example, here's several helpful packages to load\n",
    "\n",
    "import numpy as np # linear algebra\n",
    "import pandas as pd # data processing, CSV file I/O (e.g. pd.read_csv)\n",
    "import tensorflow as tf\n",
    "import matplotlib.pyplot as plt\n",
    "from tensorflow.keras.layers import RNN\n",
    "\n",
    "import warnings\n",
    "warnings.filterwarnings('ignore')\n",
    "\n",
    "\n",
    "# Input data files are available in the read-only \"../input/\" directory\n",
    "# For example, running this (by clicking run or pressing Shift+Enter) will list all files under the input directory\n",
    "\n",
    "import os\n",
    "for dirname, _, filenames in os.walk('/kaggle/input'):\n",
    "    for filename in filenames:\n",
    "        print(os.path.join(dirname, filename))\n",
    "\n",
    "# You can write up to 20GB to the current directory (/kaggle/working/) that gets preserved as output when you create a version using \"Save & Run All\" \n",
    "# You can also write temporary files to /kaggle/temp/, but they won't be saved outside of the current session"
   ]
  },
  {
   "cell_type": "markdown",
   "id": "99e816fc",
   "metadata": {
    "papermill": {
     "duration": 0.008421,
     "end_time": "2023-08-09T10:21:07.322150",
     "exception": false,
     "start_time": "2023-08-09T10:21:07.313729",
     "status": "completed"
    },
    "tags": []
   },
   "source": [
    "Load the MNIST data"
   ]
  },
  {
   "cell_type": "code",
   "execution_count": 2,
   "id": "05473c64",
   "metadata": {
    "execution": {
     "iopub.execute_input": "2023-08-09T10:21:07.340851Z",
     "iopub.status.busy": "2023-08-09T10:21:07.339943Z",
     "iopub.status.idle": "2023-08-09T10:21:09.049557Z",
     "shell.execute_reply": "2023-08-09T10:21:09.047969Z"
    },
    "papermill": {
     "duration": 1.722611,
     "end_time": "2023-08-09T10:21:09.052897",
     "exception": false,
     "start_time": "2023-08-09T10:21:07.330286",
     "status": "completed"
    },
    "tags": []
   },
   "outputs": [
    {
     "name": "stdout",
     "output_type": "stream",
     "text": [
      "Downloading data from https://storage.googleapis.com/tensorflow/tf-keras-datasets/mnist.npz\n",
      "11490434/11490434 [==============================] - 1s 0us/step\n"
     ]
    }
   ],
   "source": [
    "from tensorflow.keras.datasets import mnist\n",
    "(x_train, y_train), (x_test, y_test) = mnist.load_data()"
   ]
  },
  {
   "cell_type": "code",
   "execution_count": 3,
   "id": "a5941d2e",
   "metadata": {
    "execution": {
     "iopub.execute_input": "2023-08-09T10:21:09.075250Z",
     "iopub.status.busy": "2023-08-09T10:21:09.074830Z",
     "iopub.status.idle": "2023-08-09T10:21:09.085353Z",
     "shell.execute_reply": "2023-08-09T10:21:09.083822Z"
    },
    "papermill": {
     "duration": 0.025105,
     "end_time": "2023-08-09T10:21:09.088060",
     "exception": false,
     "start_time": "2023-08-09T10:21:09.062955",
     "status": "completed"
    },
    "tags": []
   },
   "outputs": [
    {
     "name": "stdout",
     "output_type": "stream",
     "text": [
      "No. of Labels:  10\n"
     ]
    }
   ],
   "source": [
    "# number of labels/ classes\n",
    "number_of_labels = len(np.unique(y_train))\n",
    "print(\"No. of Labels: \", number_of_labels)"
   ]
  },
  {
   "cell_type": "code",
   "execution_count": 4,
   "id": "71b7563f",
   "metadata": {
    "execution": {
     "iopub.execute_input": "2023-08-09T10:21:09.111583Z",
     "iopub.status.busy": "2023-08-09T10:21:09.110495Z",
     "iopub.status.idle": "2023-08-09T10:21:09.120427Z",
     "shell.execute_reply": "2023-08-09T10:21:09.119078Z"
    },
    "papermill": {
     "duration": 0.024967,
     "end_time": "2023-08-09T10:21:09.123374",
     "exception": false,
     "start_time": "2023-08-09T10:21:09.098407",
     "status": "completed"
    },
    "tags": []
   },
   "outputs": [
    {
     "name": "stdout",
     "output_type": "stream",
     "text": [
      "########### BEFORE CONVERTING INTO ONE-HOT ###########\n",
      "x_train:  [[[0 0 0 ... 0 0 0]\n",
      "  [0 0 0 ... 0 0 0]\n",
      "  [0 0 0 ... 0 0 0]\n",
      "  ...\n",
      "  [0 0 0 ... 0 0 0]\n",
      "  [0 0 0 ... 0 0 0]\n",
      "  [0 0 0 ... 0 0 0]]\n",
      "\n",
      " [[0 0 0 ... 0 0 0]\n",
      "  [0 0 0 ... 0 0 0]\n",
      "  [0 0 0 ... 0 0 0]\n",
      "  ...\n",
      "  [0 0 0 ... 0 0 0]\n",
      "  [0 0 0 ... 0 0 0]\n",
      "  [0 0 0 ... 0 0 0]]\n",
      "\n",
      " [[0 0 0 ... 0 0 0]\n",
      "  [0 0 0 ... 0 0 0]\n",
      "  [0 0 0 ... 0 0 0]\n",
      "  ...\n",
      "  [0 0 0 ... 0 0 0]\n",
      "  [0 0 0 ... 0 0 0]\n",
      "  [0 0 0 ... 0 0 0]]\n",
      "\n",
      " ...\n",
      "\n",
      " [[0 0 0 ... 0 0 0]\n",
      "  [0 0 0 ... 0 0 0]\n",
      "  [0 0 0 ... 0 0 0]\n",
      "  ...\n",
      "  [0 0 0 ... 0 0 0]\n",
      "  [0 0 0 ... 0 0 0]\n",
      "  [0 0 0 ... 0 0 0]]\n",
      "\n",
      " [[0 0 0 ... 0 0 0]\n",
      "  [0 0 0 ... 0 0 0]\n",
      "  [0 0 0 ... 0 0 0]\n",
      "  ...\n",
      "  [0 0 0 ... 0 0 0]\n",
      "  [0 0 0 ... 0 0 0]\n",
      "  [0 0 0 ... 0 0 0]]\n",
      "\n",
      " [[0 0 0 ... 0 0 0]\n",
      "  [0 0 0 ... 0 0 0]\n",
      "  [0 0 0 ... 0 0 0]\n",
      "  ...\n",
      "  [0 0 0 ... 0 0 0]\n",
      "  [0 0 0 ... 0 0 0]\n",
      "  [0 0 0 ... 0 0 0]]]\n",
      "y_train:  [5 0 4 ... 5 6 8]\n",
      "x_test:  [[[0 0 0 ... 0 0 0]\n",
      "  [0 0 0 ... 0 0 0]\n",
      "  [0 0 0 ... 0 0 0]\n",
      "  ...\n",
      "  [0 0 0 ... 0 0 0]\n",
      "  [0 0 0 ... 0 0 0]\n",
      "  [0 0 0 ... 0 0 0]]\n",
      "\n",
      " [[0 0 0 ... 0 0 0]\n",
      "  [0 0 0 ... 0 0 0]\n",
      "  [0 0 0 ... 0 0 0]\n",
      "  ...\n",
      "  [0 0 0 ... 0 0 0]\n",
      "  [0 0 0 ... 0 0 0]\n",
      "  [0 0 0 ... 0 0 0]]\n",
      "\n",
      " [[0 0 0 ... 0 0 0]\n",
      "  [0 0 0 ... 0 0 0]\n",
      "  [0 0 0 ... 0 0 0]\n",
      "  ...\n",
      "  [0 0 0 ... 0 0 0]\n",
      "  [0 0 0 ... 0 0 0]\n",
      "  [0 0 0 ... 0 0 0]]\n",
      "\n",
      " ...\n",
      "\n",
      " [[0 0 0 ... 0 0 0]\n",
      "  [0 0 0 ... 0 0 0]\n",
      "  [0 0 0 ... 0 0 0]\n",
      "  ...\n",
      "  [0 0 0 ... 0 0 0]\n",
      "  [0 0 0 ... 0 0 0]\n",
      "  [0 0 0 ... 0 0 0]]\n",
      "\n",
      " [[0 0 0 ... 0 0 0]\n",
      "  [0 0 0 ... 0 0 0]\n",
      "  [0 0 0 ... 0 0 0]\n",
      "  ...\n",
      "  [0 0 0 ... 0 0 0]\n",
      "  [0 0 0 ... 0 0 0]\n",
      "  [0 0 0 ... 0 0 0]]\n",
      "\n",
      " [[0 0 0 ... 0 0 0]\n",
      "  [0 0 0 ... 0 0 0]\n",
      "  [0 0 0 ... 0 0 0]\n",
      "  ...\n",
      "  [0 0 0 ... 0 0 0]\n",
      "  [0 0 0 ... 0 0 0]\n",
      "  [0 0 0 ... 0 0 0]]]\n",
      "y_test:  [7 2 1 ... 4 5 6]\n"
     ]
    }
   ],
   "source": [
    "print(\"########### BEFORE CONVERTING INTO ONE-HOT ###########\")\n",
    "print(\"x_train: \", x_train)\n",
    "print(\"y_train: \", y_train)\n",
    "\n",
    "print(\"x_test: \", x_test)\n",
    "print(\"y_test: \", y_test)"
   ]
  },
  {
   "cell_type": "code",
   "execution_count": 5,
   "id": "aa9b1cb6",
   "metadata": {
    "execution": {
     "iopub.execute_input": "2023-08-09T10:21:09.146208Z",
     "iopub.status.busy": "2023-08-09T10:21:09.145763Z",
     "iopub.status.idle": "2023-08-09T10:21:09.151618Z",
     "shell.execute_reply": "2023-08-09T10:21:09.150715Z"
    },
    "papermill": {
     "duration": 0.02044,
     "end_time": "2023-08-09T10:21:09.154233",
     "exception": false,
     "start_time": "2023-08-09T10:21:09.133793",
     "status": "completed"
    },
    "tags": []
   },
   "outputs": [
    {
     "name": "stdout",
     "output_type": "stream",
     "text": [
      "Shape of x_train:  (60000, 28, 28)\n",
      "Shape of y_train:  (60000,)\n",
      "Shape of x_test:  (10000, 28, 28)\n",
      "Shape of y_test:  (10000,)\n"
     ]
    }
   ],
   "source": [
    "print(\"Shape of x_train: \", x_train.shape)\n",
    "print(\"Shape of y_train: \", y_train.shape)\n",
    "\n",
    "print(\"Shape of x_test: \",  x_test.shape)\n",
    "print(\"Shape of y_test: \",  y_test.shape)"
   ]
  },
  {
   "cell_type": "code",
   "execution_count": 6,
   "id": "06258066",
   "metadata": {
    "execution": {
     "iopub.execute_input": "2023-08-09T10:21:09.179212Z",
     "iopub.status.busy": "2023-08-09T10:21:09.178746Z",
     "iopub.status.idle": "2023-08-09T10:21:09.190371Z",
     "shell.execute_reply": "2023-08-09T10:21:09.189179Z"
    },
    "papermill": {
     "duration": 0.027379,
     "end_time": "2023-08-09T10:21:09.193407",
     "exception": false,
     "start_time": "2023-08-09T10:21:09.166028",
     "status": "completed"
    },
    "tags": []
   },
   "outputs": [],
   "source": [
    "# now convert to one-hot\n",
    "from tensorflow.keras.utils import to_categorical\n",
    "\n",
    "y_train = to_categorical(y_train)\n",
    "y_test  = to_categorical(y_test)"
   ]
  },
  {
   "cell_type": "code",
   "execution_count": 7,
   "id": "f2f7e205",
   "metadata": {
    "execution": {
     "iopub.execute_input": "2023-08-09T10:21:09.216259Z",
     "iopub.status.busy": "2023-08-09T10:21:09.215815Z",
     "iopub.status.idle": "2023-08-09T10:21:09.224487Z",
     "shell.execute_reply": "2023-08-09T10:21:09.223163Z"
    },
    "papermill": {
     "duration": 0.023354,
     "end_time": "2023-08-09T10:21:09.227275",
     "exception": false,
     "start_time": "2023-08-09T10:21:09.203921",
     "status": "completed"
    },
    "tags": []
   },
   "outputs": [
    {
     "name": "stdout",
     "output_type": "stream",
     "text": [
      "########### AFTER CONVERTING INTO ONE-HOT ###########\n",
      "y_train:  [[0. 0. 0. ... 0. 0. 0.]\n",
      " [1. 0. 0. ... 0. 0. 0.]\n",
      " [0. 0. 0. ... 0. 0. 0.]\n",
      " ...\n",
      " [0. 0. 0. ... 0. 0. 0.]\n",
      " [0. 0. 0. ... 0. 0. 0.]\n",
      " [0. 0. 0. ... 0. 1. 0.]]\n",
      "Shape of y_train:  (60000, 10)\n",
      "y_test:  [[0. 0. 0. ... 1. 0. 0.]\n",
      " [0. 0. 1. ... 0. 0. 0.]\n",
      " [0. 1. 0. ... 0. 0. 0.]\n",
      " ...\n",
      " [0. 0. 0. ... 0. 0. 0.]\n",
      " [0. 0. 0. ... 0. 0. 0.]\n",
      " [0. 0. 0. ... 0. 0. 0.]]\n",
      "Shape of y_test:  (10000, 10)\n"
     ]
    }
   ],
   "source": [
    "print(\"########### AFTER CONVERTING INTO ONE-HOT ###########\")\n",
    "print(\"y_train: \", y_train)\n",
    "print(\"Shape of y_train: \", y_train.shape)\n",
    "\n",
    "print(\"y_test: \", y_test)\n",
    "print(\"Shape of y_test: \",  y_test.shape)"
   ]
  },
  {
   "cell_type": "code",
   "execution_count": 8,
   "id": "4f96e586",
   "metadata": {
    "execution": {
     "iopub.execute_input": "2023-08-09T10:21:09.251644Z",
     "iopub.status.busy": "2023-08-09T10:21:09.251088Z",
     "iopub.status.idle": "2023-08-09T10:21:09.263409Z",
     "shell.execute_reply": "2023-08-09T10:21:09.261824Z"
    },
    "papermill": {
     "duration": 0.029318,
     "end_time": "2023-08-09T10:21:09.267187",
     "exception": false,
     "start_time": "2023-08-09T10:21:09.237869",
     "status": "completed"
    },
    "tags": []
   },
   "outputs": [
    {
     "name": "stdout",
     "output_type": "stream",
     "text": [
      "Reshaped x_train:  [[[0 0 0 ... 0 0 0]\n",
      "  [0 0 0 ... 0 0 0]\n",
      "  [0 0 0 ... 0 0 0]\n",
      "  ...\n",
      "  [0 0 0 ... 0 0 0]\n",
      "  [0 0 0 ... 0 0 0]\n",
      "  [0 0 0 ... 0 0 0]]\n",
      "\n",
      " [[0 0 0 ... 0 0 0]\n",
      "  [0 0 0 ... 0 0 0]\n",
      "  [0 0 0 ... 0 0 0]\n",
      "  ...\n",
      "  [0 0 0 ... 0 0 0]\n",
      "  [0 0 0 ... 0 0 0]\n",
      "  [0 0 0 ... 0 0 0]]\n",
      "\n",
      " [[0 0 0 ... 0 0 0]\n",
      "  [0 0 0 ... 0 0 0]\n",
      "  [0 0 0 ... 0 0 0]\n",
      "  ...\n",
      "  [0 0 0 ... 0 0 0]\n",
      "  [0 0 0 ... 0 0 0]\n",
      "  [0 0 0 ... 0 0 0]]\n",
      "\n",
      " ...\n",
      "\n",
      " [[0 0 0 ... 0 0 0]\n",
      "  [0 0 0 ... 0 0 0]\n",
      "  [0 0 0 ... 0 0 0]\n",
      "  ...\n",
      "  [0 0 0 ... 0 0 0]\n",
      "  [0 0 0 ... 0 0 0]\n",
      "  [0 0 0 ... 0 0 0]]\n",
      "\n",
      " [[0 0 0 ... 0 0 0]\n",
      "  [0 0 0 ... 0 0 0]\n",
      "  [0 0 0 ... 0 0 0]\n",
      "  ...\n",
      "  [0 0 0 ... 0 0 0]\n",
      "  [0 0 0 ... 0 0 0]\n",
      "  [0 0 0 ... 0 0 0]]\n",
      "\n",
      " [[0 0 0 ... 0 0 0]\n",
      "  [0 0 0 ... 0 0 0]\n",
      "  [0 0 0 ... 0 0 0]\n",
      "  ...\n",
      "  [0 0 0 ... 0 0 0]\n",
      "  [0 0 0 ... 0 0 0]\n",
      "  [0 0 0 ... 0 0 0]]]\n",
      "Reshaped x_test:  [[[0 0 0 ... 0 0 0]\n",
      "  [0 0 0 ... 0 0 0]\n",
      "  [0 0 0 ... 0 0 0]\n",
      "  ...\n",
      "  [0 0 0 ... 0 0 0]\n",
      "  [0 0 0 ... 0 0 0]\n",
      "  [0 0 0 ... 0 0 0]]\n",
      "\n",
      " [[0 0 0 ... 0 0 0]\n",
      "  [0 0 0 ... 0 0 0]\n",
      "  [0 0 0 ... 0 0 0]\n",
      "  ...\n",
      "  [0 0 0 ... 0 0 0]\n",
      "  [0 0 0 ... 0 0 0]\n",
      "  [0 0 0 ... 0 0 0]]\n",
      "\n",
      " [[0 0 0 ... 0 0 0]\n",
      "  [0 0 0 ... 0 0 0]\n",
      "  [0 0 0 ... 0 0 0]\n",
      "  ...\n",
      "  [0 0 0 ... 0 0 0]\n",
      "  [0 0 0 ... 0 0 0]\n",
      "  [0 0 0 ... 0 0 0]]\n",
      "\n",
      " ...\n",
      "\n",
      " [[0 0 0 ... 0 0 0]\n",
      "  [0 0 0 ... 0 0 0]\n",
      "  [0 0 0 ... 0 0 0]\n",
      "  ...\n",
      "  [0 0 0 ... 0 0 0]\n",
      "  [0 0 0 ... 0 0 0]\n",
      "  [0 0 0 ... 0 0 0]]\n",
      "\n",
      " [[0 0 0 ... 0 0 0]\n",
      "  [0 0 0 ... 0 0 0]\n",
      "  [0 0 0 ... 0 0 0]\n",
      "  ...\n",
      "  [0 0 0 ... 0 0 0]\n",
      "  [0 0 0 ... 0 0 0]\n",
      "  [0 0 0 ... 0 0 0]]\n",
      "\n",
      " [[0 0 0 ... 0 0 0]\n",
      "  [0 0 0 ... 0 0 0]\n",
      "  [0 0 0 ... 0 0 0]\n",
      "  ...\n",
      "  [0 0 0 ... 0 0 0]\n",
      "  [0 0 0 ... 0 0 0]\n",
      "  [0 0 0 ... 0 0 0]]]\n"
     ]
    }
   ],
   "source": [
    "# resize the dataset\n",
    "image_size = x_train.shape[1]\n",
    "\n",
    "x_train = np.reshape(x_train, [-1, image_size, image_size])\n",
    "x_test  = np.reshape(x_test,  [-1, image_size, image_size])\n",
    "\n",
    "print(\"Reshaped x_train: \", x_train)\n",
    "print(\"Reshaped x_test: \", x_test)"
   ]
  },
  {
   "cell_type": "code",
   "execution_count": 9,
   "id": "dd47c93b",
   "metadata": {
    "execution": {
     "iopub.execute_input": "2023-08-09T10:21:09.291508Z",
     "iopub.status.busy": "2023-08-09T10:21:09.291095Z",
     "iopub.status.idle": "2023-08-09T10:21:09.424239Z",
     "shell.execute_reply": "2023-08-09T10:21:09.422896Z"
    },
    "papermill": {
     "duration": 0.149329,
     "end_time": "2023-08-09T10:21:09.427654",
     "exception": false,
     "start_time": "2023-08-09T10:21:09.278325",
     "status": "completed"
    },
    "tags": []
   },
   "outputs": [
    {
     "name": "stdout",
     "output_type": "stream",
     "text": [
      "Normalized x_train:  [[[0. 0. 0. ... 0. 0. 0.]\n",
      "  [0. 0. 0. ... 0. 0. 0.]\n",
      "  [0. 0. 0. ... 0. 0. 0.]\n",
      "  ...\n",
      "  [0. 0. 0. ... 0. 0. 0.]\n",
      "  [0. 0. 0. ... 0. 0. 0.]\n",
      "  [0. 0. 0. ... 0. 0. 0.]]\n",
      "\n",
      " [[0. 0. 0. ... 0. 0. 0.]\n",
      "  [0. 0. 0. ... 0. 0. 0.]\n",
      "  [0. 0. 0. ... 0. 0. 0.]\n",
      "  ...\n",
      "  [0. 0. 0. ... 0. 0. 0.]\n",
      "  [0. 0. 0. ... 0. 0. 0.]\n",
      "  [0. 0. 0. ... 0. 0. 0.]]\n",
      "\n",
      " [[0. 0. 0. ... 0. 0. 0.]\n",
      "  [0. 0. 0. ... 0. 0. 0.]\n",
      "  [0. 0. 0. ... 0. 0. 0.]\n",
      "  ...\n",
      "  [0. 0. 0. ... 0. 0. 0.]\n",
      "  [0. 0. 0. ... 0. 0. 0.]\n",
      "  [0. 0. 0. ... 0. 0. 0.]]\n",
      "\n",
      " ...\n",
      "\n",
      " [[0. 0. 0. ... 0. 0. 0.]\n",
      "  [0. 0. 0. ... 0. 0. 0.]\n",
      "  [0. 0. 0. ... 0. 0. 0.]\n",
      "  ...\n",
      "  [0. 0. 0. ... 0. 0. 0.]\n",
      "  [0. 0. 0. ... 0. 0. 0.]\n",
      "  [0. 0. 0. ... 0. 0. 0.]]\n",
      "\n",
      " [[0. 0. 0. ... 0. 0. 0.]\n",
      "  [0. 0. 0. ... 0. 0. 0.]\n",
      "  [0. 0. 0. ... 0. 0. 0.]\n",
      "  ...\n",
      "  [0. 0. 0. ... 0. 0. 0.]\n",
      "  [0. 0. 0. ... 0. 0. 0.]\n",
      "  [0. 0. 0. ... 0. 0. 0.]]\n",
      "\n",
      " [[0. 0. 0. ... 0. 0. 0.]\n",
      "  [0. 0. 0. ... 0. 0. 0.]\n",
      "  [0. 0. 0. ... 0. 0. 0.]\n",
      "  ...\n",
      "  [0. 0. 0. ... 0. 0. 0.]\n",
      "  [0. 0. 0. ... 0. 0. 0.]\n",
      "  [0. 0. 0. ... 0. 0. 0.]]]\n",
      "Normalized x_test:  [[[0. 0. 0. ... 0. 0. 0.]\n",
      "  [0. 0. 0. ... 0. 0. 0.]\n",
      "  [0. 0. 0. ... 0. 0. 0.]\n",
      "  ...\n",
      "  [0. 0. 0. ... 0. 0. 0.]\n",
      "  [0. 0. 0. ... 0. 0. 0.]\n",
      "  [0. 0. 0. ... 0. 0. 0.]]\n",
      "\n",
      " [[0. 0. 0. ... 0. 0. 0.]\n",
      "  [0. 0. 0. ... 0. 0. 0.]\n",
      "  [0. 0. 0. ... 0. 0. 0.]\n",
      "  ...\n",
      "  [0. 0. 0. ... 0. 0. 0.]\n",
      "  [0. 0. 0. ... 0. 0. 0.]\n",
      "  [0. 0. 0. ... 0. 0. 0.]]\n",
      "\n",
      " [[0. 0. 0. ... 0. 0. 0.]\n",
      "  [0. 0. 0. ... 0. 0. 0.]\n",
      "  [0. 0. 0. ... 0. 0. 0.]\n",
      "  ...\n",
      "  [0. 0. 0. ... 0. 0. 0.]\n",
      "  [0. 0. 0. ... 0. 0. 0.]\n",
      "  [0. 0. 0. ... 0. 0. 0.]]\n",
      "\n",
      " ...\n",
      "\n",
      " [[0. 0. 0. ... 0. 0. 0.]\n",
      "  [0. 0. 0. ... 0. 0. 0.]\n",
      "  [0. 0. 0. ... 0. 0. 0.]\n",
      "  ...\n",
      "  [0. 0. 0. ... 0. 0. 0.]\n",
      "  [0. 0. 0. ... 0. 0. 0.]\n",
      "  [0. 0. 0. ... 0. 0. 0.]]\n",
      "\n",
      " [[0. 0. 0. ... 0. 0. 0.]\n",
      "  [0. 0. 0. ... 0. 0. 0.]\n",
      "  [0. 0. 0. ... 0. 0. 0.]\n",
      "  ...\n",
      "  [0. 0. 0. ... 0. 0. 0.]\n",
      "  [0. 0. 0. ... 0. 0. 0.]\n",
      "  [0. 0. 0. ... 0. 0. 0.]]\n",
      "\n",
      " [[0. 0. 0. ... 0. 0. 0.]\n",
      "  [0. 0. 0. ... 0. 0. 0.]\n",
      "  [0. 0. 0. ... 0. 0. 0.]\n",
      "  ...\n",
      "  [0. 0. 0. ... 0. 0. 0.]\n",
      "  [0. 0. 0. ... 0. 0. 0.]\n",
      "  [0. 0. 0. ... 0. 0. 0.]]]\n"
     ]
    }
   ],
   "source": [
    "# normalizing the data\n",
    "x_train = x_train.astype('float32') / 255\n",
    "x_test  = x_test.astype('float32') / 255\n",
    "\n",
    "print(\"Normalized x_train: \", x_train)\n",
    "print(\"Normalized x_test: \", x_test)"
   ]
  },
  {
   "cell_type": "code",
   "execution_count": 10,
   "id": "041e82a0",
   "metadata": {
    "execution": {
     "iopub.execute_input": "2023-08-09T10:21:09.451382Z",
     "iopub.status.busy": "2023-08-09T10:21:09.450924Z",
     "iopub.status.idle": "2023-08-09T10:21:09.456539Z",
     "shell.execute_reply": "2023-08-09T10:21:09.455245Z"
    },
    "papermill": {
     "duration": 0.021086,
     "end_time": "2023-08-09T10:21:09.459648",
     "exception": false,
     "start_time": "2023-08-09T10:21:09.438562",
     "status": "completed"
    },
    "tags": []
   },
   "outputs": [],
   "source": [
    "input_shape = (image_size, image_size)\n",
    "batch_size  = 64\n",
    "units       = 128\n",
    "dropout     = 0.1"
   ]
  },
  {
   "cell_type": "code",
   "execution_count": 11,
   "id": "864e9b0c",
   "metadata": {
    "execution": {
     "iopub.execute_input": "2023-08-09T10:21:09.485302Z",
     "iopub.status.busy": "2023-08-09T10:21:09.484854Z",
     "iopub.status.idle": "2023-08-09T10:21:09.491495Z",
     "shell.execute_reply": "2023-08-09T10:21:09.490244Z"
    },
    "papermill": {
     "duration": 0.022038,
     "end_time": "2023-08-09T10:21:09.493907",
     "exception": false,
     "start_time": "2023-08-09T10:21:09.471869",
     "status": "completed"
    },
    "tags": []
   },
   "outputs": [],
   "source": [
    "from tensorflow.keras.models import Sequential\n",
    "from tensorflow.keras.layers import Dense, Activation, SimpleRNN"
   ]
  },
  {
   "cell_type": "code",
   "execution_count": 12,
   "id": "5e384650",
   "metadata": {
    "execution": {
     "iopub.execute_input": "2023-08-09T10:21:09.518256Z",
     "iopub.status.busy": "2023-08-09T10:21:09.517784Z",
     "iopub.status.idle": "2023-08-09T10:21:09.857736Z",
     "shell.execute_reply": "2023-08-09T10:21:09.856240Z"
    },
    "papermill": {
     "duration": 0.359872,
     "end_time": "2023-08-09T10:21:09.865103",
     "exception": false,
     "start_time": "2023-08-09T10:21:09.505231",
     "status": "completed"
    },
    "tags": []
   },
   "outputs": [
    {
     "name": "stdout",
     "output_type": "stream",
     "text": [
      "Model: \"sequential\"\n",
      "_________________________________________________________________\n",
      " Layer (type)                Output Shape              Param #   \n",
      "=================================================================\n",
      " simple_rnn (SimpleRNN)      (None, 128)               20096     \n",
      "                                                                 \n",
      " dense (Dense)               (None, 10)                1290      \n",
      "                                                                 \n",
      " activation (Activation)     (None, 10)                0         \n",
      "                                                                 \n",
      "=================================================================\n",
      "Total params: 21,386\n",
      "Trainable params: 21,386\n",
      "Non-trainable params: 0\n",
      "_________________________________________________________________\n"
     ]
    }
   ],
   "source": [
    "model1 = Sequential()\n",
    "\n",
    "model1.add(SimpleRNN(units = units, dropout=dropout, input_shape = input_shape))\n",
    "model1.add(Dense(number_of_labels))\n",
    "model1.add(Activation('softmax'))\n",
    "\n",
    "model1.summary()"
   ]
  },
  {
   "cell_type": "code",
   "execution_count": 13,
   "id": "c4675a94",
   "metadata": {
    "execution": {
     "iopub.execute_input": "2023-08-09T10:21:09.891518Z",
     "iopub.status.busy": "2023-08-09T10:21:09.891105Z",
     "iopub.status.idle": "2023-08-09T10:23:58.259224Z",
     "shell.execute_reply": "2023-08-09T10:23:58.257858Z"
    },
    "papermill": {
     "duration": 168.384254,
     "end_time": "2023-08-09T10:23:58.261545",
     "exception": false,
     "start_time": "2023-08-09T10:21:09.877291",
     "status": "completed"
    },
    "tags": []
   },
   "outputs": [
    {
     "name": "stdout",
     "output_type": "stream",
     "text": [
      "Epoch 1/15\n",
      "938/938 [==============================] - 13s 12ms/step - loss: 0.7716 - accuracy: 0.7691\n",
      "Epoch 2/15\n",
      "938/938 [==============================] - 11s 12ms/step - loss: 0.3248 - accuracy: 0.9054\n",
      "Epoch 3/15\n",
      "938/938 [==============================] - 11s 12ms/step - loss: 0.2295 - accuracy: 0.9333\n",
      "Epoch 4/15\n",
      "938/938 [==============================] - 11s 12ms/step - loss: 0.1884 - accuracy: 0.9443\n",
      "Epoch 5/15\n",
      "938/938 [==============================] - 11s 12ms/step - loss: 0.1656 - accuracy: 0.9514\n",
      "Epoch 6/15\n",
      "938/938 [==============================] - 11s 12ms/step - loss: 0.1485 - accuracy: 0.9560\n",
      "Epoch 7/15\n",
      "938/938 [==============================] - 11s 12ms/step - loss: 0.1364 - accuracy: 0.9598\n",
      "Epoch 8/15\n",
      "938/938 [==============================] - 11s 12ms/step - loss: 0.1237 - accuracy: 0.9640\n",
      "Epoch 9/15\n",
      "938/938 [==============================] - 11s 12ms/step - loss: 0.1161 - accuracy: 0.9651\n",
      "Epoch 10/15\n",
      "938/938 [==============================] - 11s 12ms/step - loss: 0.1090 - accuracy: 0.9679\n",
      "Epoch 11/15\n",
      "938/938 [==============================] - 11s 12ms/step - loss: 0.1048 - accuracy: 0.9690\n",
      "Epoch 12/15\n",
      "938/938 [==============================] - 11s 12ms/step - loss: 0.0994 - accuracy: 0.9704\n",
      "Epoch 13/15\n",
      "938/938 [==============================] - 11s 12ms/step - loss: 0.0947 - accuracy: 0.9718\n",
      "Epoch 14/15\n",
      "938/938 [==============================] - 11s 12ms/step - loss: 0.0909 - accuracy: 0.9731\n",
      "Epoch 15/15\n",
      "938/938 [==============================] - 11s 12ms/step - loss: 0.0874 - accuracy: 0.9744\n"
     ]
    },
    {
     "data": {
      "text/plain": [
       "<keras.callbacks.History at 0x7ee64f41ee30>"
      ]
     },
     "execution_count": 13,
     "metadata": {},
     "output_type": "execute_result"
    }
   ],
   "source": [
    "model1.compile(loss='categorical_crossentropy', optimizer='sgd', metrics=['accuracy'])\n",
    "model1.fit(x_train, y_train, epochs=15, batch_size=batch_size)"
   ]
  },
  {
   "cell_type": "code",
   "execution_count": 14,
   "id": "d9092259",
   "metadata": {
    "execution": {
     "iopub.execute_input": "2023-08-09T10:23:58.828435Z",
     "iopub.status.busy": "2023-08-09T10:23:58.828020Z",
     "iopub.status.idle": "2023-08-09T10:24:00.061382Z",
     "shell.execute_reply": "2023-08-09T10:24:00.060159Z"
    },
    "papermill": {
     "duration": 1.518596,
     "end_time": "2023-08-09T10:24:00.064283",
     "exception": false,
     "start_time": "2023-08-09T10:23:58.545687",
     "status": "completed"
    },
    "tags": []
   },
   "outputs": [
    {
     "name": "stdout",
     "output_type": "stream",
     "text": [
      "157/157 [==============================] - 1s 5ms/step - loss: 0.0864 - accuracy: 0.9744\n"
     ]
    }
   ],
   "source": [
    "_, accuracy = model1.evaluate(x_test, y_test, batch_size=batch_size)"
   ]
  },
  {
   "cell_type": "code",
   "execution_count": 15,
   "id": "5a46b082",
   "metadata": {
    "execution": {
     "iopub.execute_input": "2023-08-09T10:24:00.641026Z",
     "iopub.status.busy": "2023-08-09T10:24:00.639921Z",
     "iopub.status.idle": "2023-08-09T10:24:00.661885Z",
     "shell.execute_reply": "2023-08-09T10:24:00.660773Z"
    },
    "papermill": {
     "duration": 0.313114,
     "end_time": "2023-08-09T10:24:00.664786",
     "exception": false,
     "start_time": "2023-08-09T10:24:00.351672",
     "status": "completed"
    },
    "tags": []
   },
   "outputs": [],
   "source": [
    "# Save the trained model to an HDF5 file\n",
    "model1.save_weights('/kaggle/working/mnist_RNN_model.h5')"
   ]
  },
  {
   "cell_type": "code",
   "execution_count": 16,
   "id": "30544254",
   "metadata": {
    "execution": {
     "iopub.execute_input": "2023-08-09T10:24:01.305764Z",
     "iopub.status.busy": "2023-08-09T10:24:01.304983Z",
     "iopub.status.idle": "2023-08-09T10:24:01.311413Z",
     "shell.execute_reply": "2023-08-09T10:24:01.310475Z"
    },
    "papermill": {
     "duration": 0.295548,
     "end_time": "2023-08-09T10:24:01.313745",
     "exception": false,
     "start_time": "2023-08-09T10:24:01.018197",
     "status": "completed"
    },
    "tags": []
   },
   "outputs": [],
   "source": [
    "model_json = model1.to_json()\n",
    "with open('mnist_RNN_model_architecture.json', 'w') as json_file:\n",
    "    json_file.write(model_json)"
   ]
  },
  {
   "cell_type": "code",
   "execution_count": 17,
   "id": "003b0e56",
   "metadata": {
    "execution": {
     "iopub.execute_input": "2023-08-09T10:24:01.882721Z",
     "iopub.status.busy": "2023-08-09T10:24:01.881957Z",
     "iopub.status.idle": "2023-08-09T10:24:01.991540Z",
     "shell.execute_reply": "2023-08-09T10:24:01.990606Z"
    },
    "papermill": {
     "duration": 0.396261,
     "end_time": "2023-08-09T10:24:01.994182",
     "exception": false,
     "start_time": "2023-08-09T10:24:01.597921",
     "status": "completed"
    },
    "tags": []
   },
   "outputs": [],
   "source": [
    "from tensorflow.keras.models import model_from_json\n",
    "\n",
    "# Load the model architecture\n",
    "with open('mnist_RNN_model_architecture.json', 'r') as json_file:\n",
    "    loaded_model_json = json_file.read()\n",
    "    \n",
    "loaded_model = model_from_json(loaded_model_json)"
   ]
  },
  {
   "cell_type": "code",
   "execution_count": 18,
   "id": "286565a3",
   "metadata": {
    "execution": {
     "iopub.execute_input": "2023-08-09T10:24:02.620341Z",
     "iopub.status.busy": "2023-08-09T10:24:02.619418Z",
     "iopub.status.idle": "2023-08-09T10:24:02.640674Z",
     "shell.execute_reply": "2023-08-09T10:24:02.639355Z"
    },
    "papermill": {
     "duration": 0.329921,
     "end_time": "2023-08-09T10:24:02.643678",
     "exception": false,
     "start_time": "2023-08-09T10:24:02.313757",
     "status": "completed"
    },
    "tags": []
   },
   "outputs": [],
   "source": [
    "# Load the model weight\n",
    "loaded_model.load_weights('/kaggle/working/mnist_RNN_model.h5')"
   ]
  },
  {
   "cell_type": "code",
   "execution_count": 19,
   "id": "ea1b134d",
   "metadata": {
    "execution": {
     "iopub.execute_input": "2023-08-09T10:24:03.221442Z",
     "iopub.status.busy": "2023-08-09T10:24:03.220578Z",
     "iopub.status.idle": "2023-08-09T10:24:06.073051Z",
     "shell.execute_reply": "2023-08-09T10:24:06.071781Z"
    },
    "papermill": {
     "duration": 3.14661,
     "end_time": "2023-08-09T10:24:06.076034",
     "exception": false,
     "start_time": "2023-08-09T10:24:02.929424",
     "status": "completed"
    },
    "tags": []
   },
   "outputs": [
    {
     "name": "stdout",
     "output_type": "stream",
     "text": [
      "313/313 [==============================] - 2s 4ms/step\n"
     ]
    }
   ],
   "source": [
    "# Make predictions\n",
    "predictions = loaded_model.predict(x_test)"
   ]
  },
  {
   "cell_type": "code",
   "execution_count": 20,
   "id": "243e4676",
   "metadata": {
    "execution": {
     "iopub.execute_input": "2023-08-09T10:24:06.658900Z",
     "iopub.status.busy": "2023-08-09T10:24:06.657919Z",
     "iopub.status.idle": "2023-08-09T10:24:06.663416Z",
     "shell.execute_reply": "2023-08-09T10:24:06.662434Z"
    },
    "papermill": {
     "duration": 0.299806,
     "end_time": "2023-08-09T10:24:06.665894",
     "exception": false,
     "start_time": "2023-08-09T10:24:06.366088",
     "status": "completed"
    },
    "tags": []
   },
   "outputs": [],
   "source": [
    "# Process and analyze predictions\n",
    "predicted_labels = np.argmax(predictions, axis=1)"
   ]
  },
  {
   "cell_type": "code",
   "execution_count": 21,
   "id": "e0520c84",
   "metadata": {
    "execution": {
     "iopub.execute_input": "2023-08-09T10:24:07.242591Z",
     "iopub.status.busy": "2023-08-09T10:24:07.241858Z",
     "iopub.status.idle": "2023-08-09T10:24:09.384297Z",
     "shell.execute_reply": "2023-08-09T10:24:09.383037Z"
    },
    "papermill": {
     "duration": 2.435377,
     "end_time": "2023-08-09T10:24:09.387330",
     "exception": false,
     "start_time": "2023-08-09T10:24:06.951953",
     "status": "completed"
    },
    "tags": []
   },
   "outputs": [
    {
     "data": {
      "image/png": "[encoded data removed]",
      "text/plain": [
       "<Figure size 200x100 with 1 Axes>"
      ]
     },
     "metadata": {},
     "output_type": "display_data"
    },
    {
     "data": {
      "image/png": "[encoded data removed]",
      "text/plain": [
       "<Figure size 200x100 with 1 Axes>"
      ]
     },
     "metadata": {},
     "output_type": "display_data"
    },
    {
     "data": {
      "image/png": "[encoded data removed]",
      "text/plain": [
       "<Figure size 200x100 with 1 Axes>"
      ]
     },
     "metadata": {},
     "output_type": "display_data"
    },
    {
     "data": {
      "image/png": "[encoded data removed]",
      "text/plain": [
       "<Figure size 200x100 with 1 Axes>"
      ]
     },
     "metadata": {},
     "output_type": "display_data"
    },
    {
     "data": {
      "image/png": "[encoded data removed]",
      "text/plain": [
       "<Figure size 200x100 with 1 Axes>"
      ]
     },
     "metadata": {},
     "output_type": "display_data"
    },
    {
     "data": {
      "image/png": "[encoded data removed]",
      "text/plain": [
       "<Figure size 200x100 with 1 Axes>"
      ]
     },
     "metadata": {},
     "output_type": "display_data"
    },
    {
     "data": {
      "image/png": "[encoded data removed]",
      "text/plain": [
       "<Figure size 200x100 with 1 Axes>"
      ]
     },
     "metadata": {},
     "output_type": "display_data"
    },
    {
     "data": {
      "image/png": "[encoded data removed]",
      "text/plain": [
       "<Figure size 200x100 with 1 Axes>"
      ]
     },
     "metadata": {},
     "output_type": "display_data"
    },
    {
     "data": {
      "image/png": "[encoded data removed]",
      "text/plain": [
       "<Figure size 200x100 with 1 Axes>"
      ]
     },
     "metadata": {},
     "output_type": "display_data"
    },
    {
     "data": {
      "image/png": "[encoded data removed]",
      "text/plain": [
       "<Figure size 200x100 with 1 Axes>"
      ]
     },
     "metadata": {},
     "output_type": "display_data"
    }
   ],
   "source": [
    "# Visualize a few predictions\n",
    "for i in range(10):  # Display predictions for the first 10 samples\n",
    "    plt.figure(figsize=(2, 1))\n",
    "    plt.imshow(x_test[i].reshape(28, 28), cmap='gray')\n",
    "    plt.title(f\"True: {y_test[i]}, Predicted: {predicted_labels[i]}\")\n",
    "    plt.show()"
   ]
  },
  {
   "cell_type": "code",
   "execution_count": null,
   "id": "2d817ac5",
   "metadata": {
    "papermill": {
     "duration": 0.28702,
     "end_time": "2023-08-09T10:24:10.032859",
     "exception": false,
     "start_time": "2023-08-09T10:24:09.745839",
     "status": "completed"
    },
    "tags": []
   },
   "outputs": [],
   "source": []
  }
 ],
 "metadata": {
  "kernelspec": {
   "display_name": "Python 3",
   "language": "python",
   "name": "python3"
  },
  "language_info": {
   "codemirror_mode": {
    "name": "ipython",
    "version": 3
   },
   "file_extension": ".py",
   "mimetype": "text/x-python",
   "name": "python",
   "nbconvert_exporter": "python",
   "pygments_lexer": "ipython3",
   "version": "3.10.12"
  },
  "papermill": {
   "default_parameters": {},
   "duration": 207.839027,
   "end_time": "2023-08-09T10:24:12.351345",
   "environment_variables": {},
   "exception": null,
   "input_path": "__notebook__.ipynb",
   "output_path": "__notebook__.ipynb",
   "parameters": {},
   "start_time": "2023-08-09T10:20:44.512318",
   "version": "2.4.0"
  }
 },
 "nbformat": 4,
 "nbformat_minor": 5
}
